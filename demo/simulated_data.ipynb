{
 "cells": [
  {
   "cell_type": "code",
   "execution_count": null,
   "metadata": {},
   "outputs": [],
   "source": [
    "import numpy as np\n",
    "import json\n",
    "import matplotlib.pyplot as plt\n",
    "from src.simulation import get_spectra, generate_map\n",
    "from pathlib import Path\n",
    "from src.constants import *\n",
    "from scipy.ndimage import convolve1d\n",
    "\n",
    "path = Path('simulated_data')"
   ]
  },
  {
   "cell_type": "code",
   "execution_count": null,
   "metadata": {},
   "outputs": [],
   "source": [
    "sps, calibration = get_spectra(20, ['Al', 'Fe'], save=True)\n",
    "\n",
    "sps2 = convolve1d(sps, [1, 1, 1], axis=1, mode='nearest')\n",
    "sps2 = sps2 + np.random.normal(0,sps.mean(),sps.shape)"
   ]
  },
  {
   "cell_type": "code",
   "execution_count": null,
   "metadata": {},
   "outputs": [],
   "source": [
    "plt.plot(sps[5][:1000],color='blue')\n",
    "plt.plot(sps2[5][:1000], color='orange')"
   ]
  },
  {
   "cell_type": "code",
   "execution_count": null,
   "metadata": {},
   "outputs": [],
   "source": [
    "import matplotlib.pyplot as plt\n",
    "from scipy.signal import convolve2d\n",
    "\n",
    "img = np.array(json.load(open(path / 'seed.json', 'r')), dtype=float)\n",
    "print(np.unique(img))\n",
    "plt.imshow(img, cmap='jet', aspect='auto')\n",
    "plt.colorbar()"
   ]
  },
  {
   "cell_type": "code",
   "execution_count": null,
   "metadata": {},
   "outputs": [],
   "source": [
    "kernel = np.asarray([\n",
    "    [1, 1, 1],\n",
    "    [1, 8, 1],\n",
    "    [1, 1, 1],\n",
    "], dtype=float)\n",
    "kernel /= kernel.sum()"
   ]
  },
  {
   "cell_type": "code",
   "execution_count": null,
   "metadata": {},
   "outputs": [],
   "source": [
    "import matplotlib.pyplot as plt\n",
    "from scipy.signal import convolve2d\n",
    "\n",
    "zero_img = np.zeros(img.shape)\n",
    "zero_img[img == 1] = 1.\n",
    "zero_img[img != 1] = 0.\n",
    "\n",
    "for i in range(100):\n",
    "    zero_img = convolve2d(zero_img, kernel, mode='same', boundary='fill', fillvalue=.1)\n",
    "plt.imshow(zero_img)"
   ]
  },
  {
   "cell_type": "code",
   "execution_count": null,
   "metadata": {},
   "outputs": [],
   "source": [
    "one_img = np.zeros(img.shape)\n",
    "one_img[img == 0] = 1.\n",
    "one_img[img != 0] = 0.\n",
    "\n",
    "for i in range(100):\n",
    "    one_img = convolve2d(one_img, kernel, mode='same', boundary='fill', fillvalue=.1)\n",
    "plt.imshow(one_img)"
   ]
  },
  {
   "cell_type": "code",
   "execution_count": null,
   "metadata": {},
   "outputs": [],
   "source": [
    "result = zero_img / (zero_img + one_img)\n",
    "result -= result.min()\n",
    "result /= result.max()\n",
    "result *= 20\n",
    "result = np.rint(result)\n",
    "\n",
    "plt.imshow(result, cmap='jet', aspect='auto')\n",
    "plt.colorbar()"
   ]
  },
  {
   "cell_type": "code",
   "execution_count": null,
   "metadata": {},
   "outputs": [],
   "source": [
    "y = np.zeros(result.shape) - 2\n",
    "\n",
    "y[result < 4] = 0\n",
    "\n",
    "y[(result >= 6) & (result < 12)] = 1\n",
    "\n",
    "y[(result >= 16)] = 2"
   ]
  },
  {
   "cell_type": "code",
   "execution_count": null,
   "metadata": {},
   "outputs": [],
   "source": [
    "plt.imshow(y)"
   ]
  },
  {
   "cell_type": "code",
   "execution_count": null,
   "metadata": {},
   "outputs": [],
   "source": [
    "X = np.zeros(DIM + (calibration.shape[0],))\n",
    "for i in range(sps.shape[0]):\n",
    "    X[result == i, :] = sps[i]"
   ]
  }
 ],
 "metadata": {
  "kernelspec": {
   "display_name": ".venv",
   "language": "python",
   "name": "python3"
  },
  "language_info": {
   "codemirror_mode": {
    "name": "ipython",
    "version": 3
   },
   "file_extension": ".py",
   "mimetype": "text/x-python",
   "name": "python",
   "nbconvert_exporter": "python",
   "pygments_lexer": "ipython3",
   "version": "3.10.7"
  },
  "orig_nbformat": 4
 },
 "nbformat": 4,
 "nbformat_minor": 2
}
