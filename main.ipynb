{
 "cells": [
  {
   "cell_type": "code",
   "execution_count": null,
   "metadata": {},
   "outputs": [],
   "source": [
    "import numpy as np\n",
    "DIM = (70, 70) # hyperspectral map dimensions"
   ]
  },
  {
   "attachments": {},
   "cell_type": "markdown",
   "metadata": {},
   "source": [
    "# data"
   ]
  },
  {
   "cell_type": "code",
   "execution_count": null,
   "metadata": {},
   "outputs": [],
   "source": [
    "calibration = np.load(open('data/X_labels.npy', 'rb')) # wavelengths\n",
    "X = np.load(open('data/X.npy', 'rb')) # measured data, dimensions are (index of measurement, wavelength)\n",
    "\n",
    "# make hyperspectral map\n",
    "X.resize(DIM + (X.shape[1],))\n",
    "X[::2, :] = X[::2, ::-1] # input data has snake index\n",
    "\n",
    "\n",
    "y = np.random.randint(0, 4, X.shape[:-1]) # dummy clustering model"
   ]
  },
  {
   "attachments": {},
   "cell_type": "markdown",
   "metadata": {},
   "source": [
    "# layout"
   ]
  },
  {
   "cell_type": "code",
   "execution_count": null,
   "metadata": {},
   "outputs": [],
   "source": [
    "import dash_bootstrap_components as dbc\n",
    "from dash import html, dcc, no_update, ctx\n",
    "from jupyter_dash import JupyterDash\n",
    "from dash import Input, Output\n",
    "\n",
    "# our modules you can modify\n",
    "from libs_tools.visualization import plot_spectra, plot_map\n",
    "import libs_tools.dash.custom_components as cc"
   ]
  },
  {
   "cell_type": "code",
   "execution_count": null,
   "metadata": {},
   "outputs": [],
   "source": [
    "range_slider = plot_spectra([X.mean(axis=(0, 1))], calibration=calibration, colormap=['red'])\n",
    "range_slider.update_layout(\n",
    "    yaxis=dict(fixedrange=True,),\n",
    "    template='plotly_dark',\n",
    "    plot_bgcolor= 'rgba(0, 0, 0, 0)',\n",
    "    paper_bgcolor= 'rgba(0, 0, 0, 0)',\n",
    "    margin=dict(l=0, r=0, b=0, t=0,),\n",
    ")\n",
    "pass"
   ]
  },
  {
   "cell_type": "code",
   "execution_count": null,
   "metadata": {},
   "outputs": [],
   "source": [
    "import plotly.express as px\n",
    "\n",
    "dbc_css = \"https://cdn.jsdelivr.net/gh/AnnMarieW/dash-bootstrap-templates/dbc.min.css\"\n",
    "app = JupyterDash(__name__, external_stylesheets=[dbc.themes.DARKLY]) # dbc.themes.SLATE, dbc_css\n",
    "app.title = 'LIBS Segmentation'\n",
    "\n",
    "app.layout = cc.with_frame([html.Div([\n",
    "    html.Div([cc.with_frame([\n",
    "        html.Div(dbc.RadioItems(\n",
    "            id=\"class_button\",\n",
    "            className=\"btn-group\",\n",
    "            inputClassName=\"btn-check\",\n",
    "            labelClassName=\"btn btn-outline-primary\",\n",
    "            labelCheckedClassName=\"active\",\n",
    "            options=[\n",
    "                {\"label\": \"Option 1\", \"value\": 1},\n",
    "                {\"label\": \"Option 2\", \"value\": 2},\n",
    "                {\"label\": \"Option 3\", \"value\": 3},\n",
    "            ],\n",
    "            value=1), style={'height': '10vh',}),\n",
    "        html.Div(cc.with_frame([dcc.Graph(id='x_map')]), style={'height': '90vh',}),\n",
    "    ])], style={'display': 'flex', 'flex-direction': 'column', 'width': '60vw', 'height': '100vh'}),\n",
    "    html.Br(),\n",
    "    html.Div([\n",
    "        cc.with_frame([dcc.Graph(\n",
    "            id='range_slider',\n",
    "            figure=range_slider,\n",
    "        )]),\n",
    "            dbc.Row([\n",
    "                cc.with_frame([dcc.Graph(id='point_plot')]),\n",
    "            ]),\n",
    "    ], style={'display': 'flex', 'flex-direction': 'column', 'width': '40vw', 'height': '100vh'}),\n",
    "    html.Div(id='selected_shapes'),\n",
    "], style={'display': 'flex'})])"
   ]
  },
  {
   "attachments": {},
   "cell_type": "markdown",
   "metadata": {},
   "source": [
    "# callbacks"
   ]
  },
  {
   "cell_type": "code",
   "execution_count": null,
   "metadata": {},
   "outputs": [],
   "source": [
    "import json\n",
    "\n",
    "@app.callback(\n",
    "    Output('selected_shapes', 'children'),\n",
    "    Input('selected_shapes', 'children'),\n",
    "    Input('x_map', 'relayoutData'),\n",
    "    Input('class_button', 'value'),\n",
    ")\n",
    "def update_test(memory, relayout, label):\n",
    "    if 'shapes' in relayout and ctx.triggered_id != 'class_button':\n",
    "        memory = json.loads(memory) if memory else []\n",
    "        memory += [(label, 'path')] # TODO relayout['shapes'][-1]['path']\n",
    "        memory = json.dumps(memory)\n",
    "    return memory\n",
    "\n",
    "@app.callback(\n",
    "    #[\n",
    "        Output('x_map', 'figure'),\n",
    "        #Output('x_map', 'relayoutData'),\n",
    "    #],\n",
    "    Input('range_slider', 'relayoutData'),\n",
    "    Input('selected_shapes', 'children'),\n",
    ")\n",
    "def update_X_map(zoom, shapes):\n",
    "    if zoom is None or \"xaxis.autorange\" in zoom or 'autosize' in zoom:\n",
    "        values = X.sum(axis=2)\n",
    "    else:\n",
    "        values = X[:, :, (calibration >= float(zoom[\"xaxis.range[0]\"])) & (calibration <= float(zoom[\"xaxis.range[1]\"]))].sum(axis=2)\n",
    "    values /= values.max()\n",
    "    fig = plot_map(values=values)\n",
    "    fig.update_layout(\n",
    "        template='plotly_dark',\n",
    "        plot_bgcolor= 'rgba(0, 0, 0, 0)',\n",
    "        paper_bgcolor= 'rgba(0, 0, 0, 0)',\n",
    "        margin=dict(l=0, r=0, b=0, t=0,),\n",
    "    )\n",
    "    \n",
    "    return fig\n",
    "\n",
    "@app.callback(\n",
    "    Output('point_plot', 'figure'),\n",
    "    Input('x_map', 'hoverData'),\n",
    ")\n",
    "def update_point_plot(hover):\n",
    "    if hover is not None:\n",
    "        x, y = hover['points'][0]['x'], hover['points'][0]['y']\n",
    "    else:\n",
    "        x, y = 0, 0\n",
    "    fig = plot_spectra([X[x, y, :]], calibration=calibration)\n",
    "    fig.update_layout(\n",
    "        template='plotly_dark',\n",
    "        plot_bgcolor= 'rgba(0, 0, 0, 0)',\n",
    "        paper_bgcolor= 'rgba(0, 0, 0, 0)',\n",
    "        margin=dict(l=0, r=0, b=0, t=0,),\n",
    "    )\n",
    "    return fig\n",
    "\n"
   ]
  },
  {
   "attachments": {},
   "cell_type": "markdown",
   "metadata": {},
   "source": [
    "# run"
   ]
  },
  {
   "cell_type": "code",
   "execution_count": null,
   "metadata": {},
   "outputs": [],
   "source": [
    "if __name__ == \"__main__\":\n",
    "    app.run_server(debug=True)"
   ]
  }
 ],
 "metadata": {
  "kernelspec": {
   "display_name": ".venv",
   "language": "python",
   "name": "python3"
  },
  "language_info": {
   "codemirror_mode": {
    "name": "ipython",
    "version": 3
   },
   "file_extension": ".py",
   "mimetype": "text/x-python",
   "name": "python",
   "nbconvert_exporter": "python",
   "pygments_lexer": "ipython3",
   "version": "3.10.7"
  },
  "orig_nbformat": 4
 },
 "nbformat": 4,
 "nbformat_minor": 2
}
